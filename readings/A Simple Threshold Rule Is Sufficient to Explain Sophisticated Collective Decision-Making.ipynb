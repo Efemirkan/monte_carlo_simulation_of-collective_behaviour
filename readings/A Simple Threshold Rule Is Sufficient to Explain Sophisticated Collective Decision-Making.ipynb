{
 "cells": [
  {
   "cell_type": "markdown",
   "id": "7e8c9eb1-0b9e-449b-a35d-c6086d3cfebb",
   "metadata": {},
   "source": [
    "# A Simple Threshold Rule Is Sufficient to Explain Sophisticated Collective Decision-Making"
   ]
  },
  {
   "cell_type": "markdown",
   "id": "56273064-dbc7-45a3-99fa-136545b91410",
   "metadata": {},
   "source": [
    "#### Introduction"
   ]
  },
  {
   "cell_type": "code",
   "execution_count": null,
   "id": "8942261e-57a8-4497-82b6-e5ae085c5961",
   "metadata": {},
   "outputs": [],
   "source": []
  }
 ],
 "metadata": {
  "kernelspec": {
   "display_name": "Python [conda env:base] *",
   "language": "python",
   "name": "conda-base-py"
  },
  "language_info": {
   "codemirror_mode": {
    "name": "ipython",
    "version": 3
   },
   "file_extension": ".py",
   "mimetype": "text/x-python",
   "name": "python",
   "nbconvert_exporter": "python",
   "pygments_lexer": "ipython3",
   "version": "3.12.7"
  }
 },
 "nbformat": 4,
 "nbformat_minor": 5
}
